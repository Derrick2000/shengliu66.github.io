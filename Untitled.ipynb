{
 "cells": [
  {
   "cell_type": "code",
   "execution_count": 66,
   "metadata": {},
   "outputs": [],
   "source": [
    "def isMonotonic(array):\n",
    "    # Write your code here.\n",
    "    if len(array) <= 1:\n",
    "        return True\n",
    "    else:\n",
    "        element_old = array[1]\n",
    "        increasing_flag = (array[1] - array[0])\n",
    "        \n",
    "        for k, element in enumerate(array[2:]):\n",
    "            if increasing_flag > 0:\n",
    "                if (element < element_old):\n",
    "                    return False\n",
    "                elif k == (len(array[2:]) - 1):\n",
    "                    return True \n",
    "            elif increasing_flag == 0:\n",
    "#                 print(element, element_old)\n",
    "                increasing_flag = element - element_old \n",
    "                if k == (len(array[2:]) - 1):\n",
    "                    return True\n",
    "                \n",
    "            else:\n",
    "                if (element > element_old):\n",
    "                    return False\n",
    "                elif k == (len(array[2:]) - 1):\n",
    "                    return True\n",
    "            element_old = element\n",
    "                "
   ]
  },
  {
   "cell_type": "code",
   "execution_count": 67,
   "metadata": {},
   "outputs": [],
   "source": [
    "array = [-1, -1, -1, -1]"
   ]
  },
  {
   "cell_type": "code",
   "execution_count": 68,
   "metadata": {},
   "outputs": [
    {
     "data": {
      "text/plain": [
       "True"
      ]
     },
     "execution_count": 68,
     "metadata": {},
     "output_type": "execute_result"
    }
   ],
   "source": [
    "isMonotonic(array)"
   ]
  },
  {
   "cell_type": "code",
   "execution_count": 71,
   "metadata": {},
   "outputs": [
    {
     "data": {
      "text/plain": [
       "[9, 8, 7, 6, 5, 4, 3, 2, 1, 0]"
      ]
     },
     "execution_count": 71,
     "metadata": {},
     "output_type": "execute_result"
    }
   ],
   "source": [
    "list(range(10-1,-1,-1))"
   ]
  },
  {
   "cell_type": "code",
   "execution_count": null,
   "metadata": {},
   "outputs": [],
   "source": []
  }
 ],
 "metadata": {
  "kernelspec": {
   "display_name": "Python 3",
   "language": "python",
   "name": "python3"
  },
  "language_info": {
   "codemirror_mode": {
    "name": "ipython",
    "version": 3
   },
   "file_extension": ".py",
   "mimetype": "text/x-python",
   "name": "python",
   "nbconvert_exporter": "python",
   "pygments_lexer": "ipython3",
   "version": "3.7.1"
  }
 },
 "nbformat": 4,
 "nbformat_minor": 2
}
